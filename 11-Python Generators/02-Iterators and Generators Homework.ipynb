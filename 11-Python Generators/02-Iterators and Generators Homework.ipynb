{
  "cells": [
    {
      "cell_type": "markdown",
      "metadata": {
        "id": "view-in-github",
        "colab_type": "text"
      },
      "source": [
        "<a href=\"https://colab.research.google.com/github/Ori-Cohenn/Pierian-Data-Complete-Python-3-Bootcamp/blob/master/11-Python%20Generators/02-Iterators%20and%20Generators%20Homework.ipynb\" target=\"_parent\"><img src=\"https://colab.research.google.com/assets/colab-badge.svg\" alt=\"Open In Colab\"/></a>"
      ]
    },
    {
      "cell_type": "markdown",
      "metadata": {
        "id": "9yNfEBDtQo3S"
      },
      "source": [
        "# Iterators and Generators Homework\n",
        "\n",
        "### Problem 1\n",
        "\n",
        "Create a generator that generates the squares of numbers up to some number N."
      ]
    },
    {
      "cell_type": "code",
      "execution_count": 5,
      "metadata": {
        "id": "1f2Ew5fhQo3U"
      },
      "outputs": [],
      "source": [
        "def gensquares(N):\n",
        "  for x in range(N):\n",
        "    yield x**2"
      ]
    },
    {
      "cell_type": "code",
      "execution_count": 6,
      "metadata": {
        "id": "mFK1-Wx3Qo3V",
        "outputId": "49dfc7d7-a581-460b-8849-c1c503d69f30",
        "colab": {
          "base_uri": "https://localhost:8080/"
        }
      },
      "outputs": [
        {
          "output_type": "stream",
          "name": "stdout",
          "text": [
            "0\n",
            "1\n",
            "4\n",
            "9\n",
            "16\n",
            "25\n",
            "36\n",
            "49\n",
            "64\n",
            "81\n"
          ]
        }
      ],
      "source": [
        "for x in gensquares(10):\n",
        "    print(x)"
      ]
    },
    {
      "cell_type": "markdown",
      "metadata": {
        "id": "hZNI2tfoQo3V"
      },
      "source": [
        "### Problem 2\n",
        "\n",
        "Create a generator that yields \"n\" random numbers between a low and high number (that are inputs). <br>Note: Use the random library. For example:"
      ]
    },
    {
      "cell_type": "code",
      "execution_count": 9,
      "metadata": {
        "id": "XiVAeliBQo3W",
        "outputId": "5c59e1eb-98b4-4412-fe55-4fde526034df",
        "colab": {
          "base_uri": "https://localhost:8080/"
        }
      },
      "outputs": [
        {
          "output_type": "execute_result",
          "data": {
            "text/plain": [
              "8"
            ]
          },
          "metadata": {},
          "execution_count": 9
        }
      ],
      "source": [
        "import random\n",
        "\n",
        "random.randint(1,10)"
      ]
    },
    {
      "cell_type": "code",
      "execution_count": 10,
      "metadata": {
        "id": "bjz8vgd8Qo3W"
      },
      "outputs": [],
      "source": [
        "def rand_num(low,high,n):\n",
        "  for x in range(n):\n",
        "    yield random.randint(low, high)"
      ]
    },
    {
      "cell_type": "code",
      "execution_count": 12,
      "metadata": {
        "id": "1izGRZN3Qo3W",
        "outputId": "f3c23572-7c86-4c86-b99a-c2c328840674",
        "colab": {
          "base_uri": "https://localhost:8080/"
        }
      },
      "outputs": [
        {
          "output_type": "stream",
          "name": "stdout",
          "text": [
            "3\n",
            "4\n",
            "6\n",
            "2\n",
            "9\n",
            "1\n",
            "9\n",
            "9\n",
            "10\n",
            "4\n",
            "7\n",
            "8\n"
          ]
        }
      ],
      "source": [
        "for num in rand_num(1,10,12):\n",
        "    print(num)"
      ]
    },
    {
      "cell_type": "markdown",
      "metadata": {
        "id": "mau7VzSWQo3W"
      },
      "source": [
        "### Problem 3\n",
        "\n",
        "Use the iter() function to convert the string below into an iterator:\n"
      ]
    },
    {
      "cell_type": "code",
      "execution_count": 14,
      "metadata": {
        "id": "cNmFEJruQo3W",
        "outputId": "7a757176-0ef0-4fcb-9fd8-07ae97d1fd49",
        "colab": {
          "base_uri": "https://localhost:8080/"
        }
      },
      "outputs": [
        {
          "output_type": "stream",
          "name": "stdout",
          "text": [
            "h\n",
            "e\n",
            "l\n",
            "l\n",
            "o\n"
          ]
        }
      ],
      "source": [
        "s = 'hello'\n",
        "s_iter = iter(s)\n",
        "print(next(s_iter))\n",
        "print(next(s_iter))\n",
        "print(next(s_iter))\n",
        "print(next(s_iter))\n",
        "print(next(s_iter))"
      ]
    },
    {
      "cell_type": "markdown",
      "metadata": {
        "id": "Vm87YKxVQo3X"
      },
      "source": [
        "### Problem 4\n",
        "Explain a use case for a generator using a yield statement where you would not want to use a normal function with a return statement.<br>\n",
        "\n",
        "#**Answer<br>**\n",
        "\n",
        "If the output has the potential of taking up a large amount of memory and you only intend to iterate through it, you would want to use a generator."
      ]
    },
    {
      "cell_type": "markdown",
      "metadata": {
        "id": "-zCclGWCQo3X"
      },
      "source": [
        "### Extra Credit!\n",
        "Can you explain what *gencomp* is in the code below? (Note: We never covered this in lecture! You will have to do some Googling/Stack Overflowing!)"
      ]
    },
    {
      "cell_type": "code",
      "execution_count": 15,
      "metadata": {
        "id": "ui7z3EpmQo3X",
        "outputId": "c8c4a83c-9631-4b60-a432-03d642364b1d",
        "colab": {
          "base_uri": "https://localhost:8080/"
        }
      },
      "outputs": [
        {
          "output_type": "stream",
          "name": "stdout",
          "text": [
            "4\n",
            "5\n"
          ]
        }
      ],
      "source": [
        "my_list = [1,2,3,4,5]\n",
        "\n",
        "gencomp = (item for item in my_list if item > 3)\n",
        "\n",
        "for item in gencomp:\n",
        "    print(item)"
      ]
    },
    {
      "cell_type": "markdown",
      "source": [
        "#**Answer<br>**\n",
        "\n",
        "it's creating a tuple with every item in the list that is bigger than 3 without returning the actual list and wasting memory"
      ],
      "metadata": {
        "id": "QZvdLRQ5UD6W"
      }
    },
    {
      "cell_type": "markdown",
      "metadata": {
        "id": "Dd8nde5sQo3X"
      },
      "source": [
        "Hint: Google *generator comprehension*!\n",
        "\n",
        "# Great Job!"
      ]
    }
  ],
  "metadata": {
    "kernelspec": {
      "display_name": "Python 3",
      "language": "python",
      "name": "python3"
    },
    "language_info": {
      "codemirror_mode": {
        "name": "ipython",
        "version": 3
      },
      "file_extension": ".py",
      "mimetype": "text/x-python",
      "name": "python",
      "nbconvert_exporter": "python",
      "pygments_lexer": "ipython3",
      "version": "3.6.2"
    },
    "colab": {
      "provenance": [],
      "include_colab_link": true
    }
  },
  "nbformat": 4,
  "nbformat_minor": 0
}