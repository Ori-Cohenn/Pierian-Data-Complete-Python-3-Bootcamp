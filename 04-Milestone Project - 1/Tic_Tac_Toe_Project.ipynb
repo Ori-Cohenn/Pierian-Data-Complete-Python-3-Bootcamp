{
  "nbformat": 4,
  "nbformat_minor": 0,
  "metadata": {
    "colab": {
      "provenance": [],
      "authorship_tag": "ABX9TyMhJkU8mueJKKFY2FW6lJUF",
      "include_colab_link": true
    },
    "kernelspec": {
      "name": "python3",
      "display_name": "Python 3"
    },
    "language_info": {
      "name": "python"
    }
  },
  "cells": [
    {
      "cell_type": "markdown",
      "metadata": {
        "id": "view-in-github",
        "colab_type": "text"
      },
      "source": [
        "<a href=\"https://colab.research.google.com/github/Ori-Cohenn/Pierian-Data-Complete-Python-3-Bootcamp/blob/master/04-Milestone%20Project%20-%201/Tic_Tac_Toe_Project.ipynb\" target=\"_parent\"><img src=\"https://colab.research.google.com/assets/colab-badge.svg\" alt=\"Open In Colab\"/></a>"
      ]
    },
    {
      "cell_type": "code",
      "source": [
        "def displayBoard(board: list[list])-> int:\n",
        "  for rows in board:\n",
        "    for cols in rows:\n",
        "      print(cols,end=\" \")\n",
        "    print()\n",
        "  return 0"
      ],
      "metadata": {
        "id": "j4oHXOVF1TbK"
      },
      "execution_count": 1,
      "outputs": []
    },
    {
      "cell_type": "code",
      "source": [
        "def gameInit()->str:\n",
        "  print(\"Lets Start....\")\n",
        "  player1=str(input(\"Player1, Please pick a marker 'X' or 'O': \")).upper()\n",
        "  while player1 not in ['X','O']:\n",
        "    print(\"wrong input try again\")\n",
        "    player = str(input(\"first player,Please pick a marker 'X' or 'O': \")).upper()\n",
        "  return player"
      ],
      "metadata": {
        "id": "yTmxrpxX7mbf"
      },
      "execution_count": 2,
      "outputs": []
    },
    {
      "cell_type": "code",
      "source": [
        "def playerTurn(board: list[list],playerMarker: str)-> list[list]:\n",
        "    while True:\n",
        "        try:\n",
        "            rowChoice = int(input('Please enter a row position: '))\n",
        "            colChoice = int(input('Please enter a column position: '))\n",
        "\n",
        "            if 0 <= rowChoice < len(board) and 0 <= colChoice < len(board[rowChoice]) and board[rowChoice][colChoice] == \"-\":\n",
        "                board[rowChoice][colChoice] = playerMarker\n",
        "                break\n",
        "            else:\n",
        "                print(\"Invalid position! Please choose again.\")\n",
        "        except ValueError:\n",
        "            print(\"Invalid input! Please enter numeric values.\")\n",
        "\n",
        "    return board"
      ],
      "metadata": {
        "id": "zls4p6Ar2jZh"
      },
      "execution_count": 7,
      "outputs": []
    },
    {
      "cell_type": "code",
      "source": [
        "def winCheck(board: list[list], playerMarker: str)-> bool:\n",
        "      # Check rows\n",
        "    for row in board:\n",
        "        if all(cell == playerMarker for cell in row):\n",
        "            return True\n",
        "\n",
        "    # Check columns\n",
        "    for col in range(len(board[0])):\n",
        "        if all(row[col] == playerMarker for row in board):\n",
        "            return True\n",
        "\n",
        "    # Check main diagonal\n",
        "    if all(board[i][i] == playerMarker for i in range(len(board))):\n",
        "        return True\n",
        "\n",
        "    # Check anti-diagonal\n",
        "    if all(board[i][len(board) - 1 - i] == playerMarker for i in range(len(board))):\n",
        "        return True\n",
        "\n",
        "    # No win found\n",
        "    return False"
      ],
      "metadata": {
        "id": "VgKzOXiq_o4I"
      },
      "execution_count": 13,
      "outputs": []
    },
    {
      "cell_type": "code",
      "source": [
        "def tableFull(board: list[list])-> bool:\n",
        "  count: int = 0\n",
        "  for rows in board:\n",
        "    for cols in rows:\n",
        "      if (cols!='-'):\n",
        "        count+=1\n",
        "  if count==len(board)*len(board): return True\n",
        "  return False\n",
        ""
      ],
      "metadata": {
        "id": "6FgiOjMDPVZR"
      },
      "execution_count": 29,
      "outputs": []
    },
    {
      "cell_type": "code",
      "source": [
        "tableFull([[\"-\", \"-\", \"-\"], [\"-\", \"-\", \"-\"], [\"-\", \"-\", \"-\"]])"
      ],
      "metadata": {
        "colab": {
          "base_uri": "https://localhost:8080/"
        },
        "id": "7H2_0_HJUx0X",
        "outputId": "d3d5cc11-b0b7-45ae-fdd7-32d2d4b90fef"
      },
      "execution_count": 30,
      "outputs": [
        {
          "output_type": "execute_result",
          "data": {
            "text/plain": [
              "False"
            ]
          },
          "metadata": {},
          "execution_count": 30
        }
      ]
    },
    {
      "cell_type": "code",
      "source": [
        "def gameOn()->bool:\n",
        "    while True:\n",
        "        fgameOn = str(input(\"You Want to play agian?\\n Please pick 'Y' or 'N': \\n\")).upper()\n",
        "        if(fgameOn=='Y'):\n",
        "          return True\n",
        "        elif(fgameOn=='N'):\n",
        "          return False\n",
        "        else:\n",
        "          print(\"wrong input, pick\")"
      ],
      "metadata": {
        "id": "ERILKJLrRF92"
      },
      "execution_count": 31,
      "outputs": []
    },
    {
      "cell_type": "code",
      "source": [
        "from IPython.display import clear_output\n",
        "board : str =[[\"-\", \"-\", \"-\"], [\"-\", \"-\", \"-\"], [\"-\", \"-\", \"-\"]]\n",
        "playerMarker1: str=gameInit()\n",
        "playerMarker2: str = 'O' if playerMarker1=='X' else 'X'\n",
        "displayBoard(board)\n",
        "print(\"Player1 turn...\")\n",
        "playerTurn(board,playerMarker1)\n",
        "clear_output()\n",
        "turn: int = 0\n",
        "while True:\n",
        "  displayBoard(board)\n",
        "  if (winCheck(board,playerMarker1)):\n",
        "    print(f\"first player -> {playerMarker1} Won!\")\n",
        "    if(not gameOn()): break\n",
        "  elif (winCheck(board,playerMarker2)):\n",
        "    print(f\"second player -> {playerMarker2} Won!\")\n",
        "    if(not gameOn()): break\n",
        "  elif (not tableFull):\n",
        "    print(\"No one wins\")\n",
        "    if(not gameOn()): break\n",
        "  turn^=1\n",
        "  if (turn):\n",
        "    print(\"Player2 turn...\")\n",
        "    playerTurn(board,playerMarker2)\n",
        "  else:\n",
        "    print(\"Player1 turn...\")\n",
        "    playerTurn(board,playerMarker1)\n",
        "  clear_output()"
      ],
      "metadata": {
        "colab": {
          "base_uri": "https://localhost:8080/",
          "height": 408
        },
        "id": "Wxa4N7SGBUQv",
        "outputId": "2f821d5e-ac6e-476b-e0e0-7c20900271a2"
      },
      "execution_count": 35,
      "outputs": [
        {
          "output_type": "stream",
          "name": "stdout",
          "text": [
            "- - - \n",
            "- O - \n",
            "- - X \n",
            "Player1 turn...\n"
          ]
        },
        {
          "output_type": "error",
          "ename": "KeyboardInterrupt",
          "evalue": "Interrupted by user",
          "traceback": [
            "\u001b[0;31m---------------------------------------------------------------------------\u001b[0m",
            "\u001b[0;31mKeyboardInterrupt\u001b[0m                         Traceback (most recent call last)",
            "\u001b[0;32m<ipython-input-35-b113a198a37a>\u001b[0m in \u001b[0;36m<cell line: 9>\u001b[0;34m()\u001b[0m\n\u001b[1;32m     24\u001b[0m   \u001b[0;32melse\u001b[0m\u001b[0;34m:\u001b[0m\u001b[0;34m\u001b[0m\u001b[0;34m\u001b[0m\u001b[0m\n\u001b[1;32m     25\u001b[0m     \u001b[0mprint\u001b[0m\u001b[0;34m(\u001b[0m\u001b[0;34m\"Player1 turn...\"\u001b[0m\u001b[0;34m)\u001b[0m\u001b[0;34m\u001b[0m\u001b[0;34m\u001b[0m\u001b[0m\n\u001b[0;32m---> 26\u001b[0;31m     \u001b[0mplayerTurn\u001b[0m\u001b[0;34m(\u001b[0m\u001b[0mboard\u001b[0m\u001b[0;34m,\u001b[0m\u001b[0mplayerMarker1\u001b[0m\u001b[0;34m)\u001b[0m\u001b[0;34m\u001b[0m\u001b[0;34m\u001b[0m\u001b[0m\n\u001b[0m\u001b[1;32m     27\u001b[0m   \u001b[0mclear_output\u001b[0m\u001b[0;34m(\u001b[0m\u001b[0;34m)\u001b[0m\u001b[0;34m\u001b[0m\u001b[0;34m\u001b[0m\u001b[0m\n",
            "\u001b[0;32m<ipython-input-7-a820813c97ff>\u001b[0m in \u001b[0;36mplayerTurn\u001b[0;34m(board, playerMarker)\u001b[0m\n\u001b[1;32m      2\u001b[0m     \u001b[0;32mwhile\u001b[0m \u001b[0;32mTrue\u001b[0m\u001b[0;34m:\u001b[0m\u001b[0;34m\u001b[0m\u001b[0;34m\u001b[0m\u001b[0m\n\u001b[1;32m      3\u001b[0m         \u001b[0;32mtry\u001b[0m\u001b[0;34m:\u001b[0m\u001b[0;34m\u001b[0m\u001b[0;34m\u001b[0m\u001b[0m\n\u001b[0;32m----> 4\u001b[0;31m             \u001b[0mrowChoice\u001b[0m \u001b[0;34m=\u001b[0m \u001b[0mint\u001b[0m\u001b[0;34m(\u001b[0m\u001b[0minput\u001b[0m\u001b[0;34m(\u001b[0m\u001b[0;34m'Please enter a row position: '\u001b[0m\u001b[0;34m)\u001b[0m\u001b[0;34m)\u001b[0m\u001b[0;34m\u001b[0m\u001b[0;34m\u001b[0m\u001b[0m\n\u001b[0m\u001b[1;32m      5\u001b[0m             \u001b[0mcolChoice\u001b[0m \u001b[0;34m=\u001b[0m \u001b[0mint\u001b[0m\u001b[0;34m(\u001b[0m\u001b[0minput\u001b[0m\u001b[0;34m(\u001b[0m\u001b[0;34m'Please enter a column position: '\u001b[0m\u001b[0;34m)\u001b[0m\u001b[0;34m)\u001b[0m\u001b[0;34m\u001b[0m\u001b[0;34m\u001b[0m\u001b[0m\n\u001b[1;32m      6\u001b[0m \u001b[0;34m\u001b[0m\u001b[0m\n",
            "\u001b[0;32m/usr/local/lib/python3.10/dist-packages/ipykernel/kernelbase.py\u001b[0m in \u001b[0;36mraw_input\u001b[0;34m(self, prompt)\u001b[0m\n\u001b[1;32m    849\u001b[0m                 \u001b[0;34m\"raw_input was called, but this frontend does not support input requests.\"\u001b[0m\u001b[0;34m\u001b[0m\u001b[0;34m\u001b[0m\u001b[0m\n\u001b[1;32m    850\u001b[0m             )\n\u001b[0;32m--> 851\u001b[0;31m         return self._input_request(str(prompt),\n\u001b[0m\u001b[1;32m    852\u001b[0m             \u001b[0mself\u001b[0m\u001b[0;34m.\u001b[0m\u001b[0m_parent_ident\u001b[0m\u001b[0;34m,\u001b[0m\u001b[0;34m\u001b[0m\u001b[0;34m\u001b[0m\u001b[0m\n\u001b[1;32m    853\u001b[0m             \u001b[0mself\u001b[0m\u001b[0;34m.\u001b[0m\u001b[0m_parent_header\u001b[0m\u001b[0;34m,\u001b[0m\u001b[0;34m\u001b[0m\u001b[0;34m\u001b[0m\u001b[0m\n",
            "\u001b[0;32m/usr/local/lib/python3.10/dist-packages/ipykernel/kernelbase.py\u001b[0m in \u001b[0;36m_input_request\u001b[0;34m(self, prompt, ident, parent, password)\u001b[0m\n\u001b[1;32m    893\u001b[0m             \u001b[0;32mexcept\u001b[0m \u001b[0mKeyboardInterrupt\u001b[0m\u001b[0;34m:\u001b[0m\u001b[0;34m\u001b[0m\u001b[0;34m\u001b[0m\u001b[0m\n\u001b[1;32m    894\u001b[0m                 \u001b[0;31m# re-raise KeyboardInterrupt, to truncate traceback\u001b[0m\u001b[0;34m\u001b[0m\u001b[0;34m\u001b[0m\u001b[0m\n\u001b[0;32m--> 895\u001b[0;31m                 \u001b[0;32mraise\u001b[0m \u001b[0mKeyboardInterrupt\u001b[0m\u001b[0;34m(\u001b[0m\u001b[0;34m\"Interrupted by user\"\u001b[0m\u001b[0;34m)\u001b[0m \u001b[0;32mfrom\u001b[0m \u001b[0;32mNone\u001b[0m\u001b[0;34m\u001b[0m\u001b[0;34m\u001b[0m\u001b[0m\n\u001b[0m\u001b[1;32m    896\u001b[0m             \u001b[0;32mexcept\u001b[0m \u001b[0mException\u001b[0m \u001b[0;32mas\u001b[0m \u001b[0me\u001b[0m\u001b[0;34m:\u001b[0m\u001b[0;34m\u001b[0m\u001b[0;34m\u001b[0m\u001b[0m\n\u001b[1;32m    897\u001b[0m                 \u001b[0mself\u001b[0m\u001b[0;34m.\u001b[0m\u001b[0mlog\u001b[0m\u001b[0;34m.\u001b[0m\u001b[0mwarning\u001b[0m\u001b[0;34m(\u001b[0m\u001b[0;34m\"Invalid Message:\"\u001b[0m\u001b[0;34m,\u001b[0m \u001b[0mexc_info\u001b[0m\u001b[0;34m=\u001b[0m\u001b[0;32mTrue\u001b[0m\u001b[0;34m)\u001b[0m\u001b[0;34m\u001b[0m\u001b[0;34m\u001b[0m\u001b[0m\n",
            "\u001b[0;31mKeyboardInterrupt\u001b[0m: Interrupted by user"
          ]
        }
      ]
    },
    {
      "cell_type": "code",
      "source": [
        "1"
      ],
      "metadata": {
        "id": "cdiZp2CrM6IA"
      },
      "execution_count": null,
      "outputs": []
    }
  ]
}