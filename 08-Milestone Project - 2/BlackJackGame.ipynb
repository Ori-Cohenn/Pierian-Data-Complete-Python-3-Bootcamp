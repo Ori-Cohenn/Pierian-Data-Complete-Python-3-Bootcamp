{
  "nbformat": 4,
  "nbformat_minor": 0,
  "metadata": {
    "colab": {
      "provenance": [],
      "authorship_tag": "ABX9TyNPYhr3PO4UpwTAkMOaefyO",
      "include_colab_link": true
    },
    "kernelspec": {
      "name": "python3",
      "display_name": "Python 3"
    },
    "language_info": {
      "name": "python"
    }
  },
  "cells": [
    {
      "cell_type": "markdown",
      "metadata": {
        "id": "view-in-github",
        "colab_type": "text"
      },
      "source": [
        "<a href=\"https://colab.research.google.com/github/Ori-Cohenn/Pierian-Data-Complete-Python-3-Bootcamp/blob/master/08-Milestone%20Project%20-%202/BlackJackGame.ipynb\" target=\"_parent\"><img src=\"https://colab.research.google.com/assets/colab-badge.svg\" alt=\"Open In Colab\"/></a>"
      ]
    },
    {
      "cell_type": "markdown",
      "source": [
        "# Milestone Project 2 - Blackjack Game\n",
        "In this milestone project you will be creating a Complete BlackJack Card Game in Python.\n",
        "\n",
        "Here are the requirements:\n",
        "\n",
        "* You need to create a simple text-based BlackJack game\n",
        "* The game needs to have one player versus an automated dealer.\n",
        "* The player can stand or hit.\n",
        "* The player must be able to pick their betting amount.\n",
        "* You need to keep track of the player's total money.\n",
        "* You need to alert the player of wins, losses, or busts, etc...\n",
        "\n",
        "And most importantly:\n",
        "\n",
        "* You must use OOP and classes in some portion of your game. You can not just use functions in your game. Use classes to help you define the Deck and the Player's hand. There are many right ways to do this, so explore it well!\n",
        "Feel free to expand this game. Try including multiple players. Try adding in Double-Down and card splits! Remember to you are free to use any resources you want and as always:\n",
        "\n",
        "# HAVE FUN!"
      ],
      "metadata": {
        "id": "eelKnKifXoQW"
      }
    },
    {
      "cell_type": "code",
      "execution_count": 106,
      "metadata": {
        "id": "81njjW-4Xm3L"
      },
      "outputs": [],
      "source": [
        "import random # libraries and global veriables\n",
        "from IPython.display import clear_output\n",
        "import time\n",
        "suits = ('Hearts', 'Diamonds', 'Spades', 'Clubs')\n",
        "ranks = ('Two', 'Three', 'Four', 'Five', 'Six', 'Seven', 'Eight', 'Nine', 'Ten', 'Jack', 'Queen', 'King', 'Ace')\n",
        "values = {'Two':2, 'Three':3, 'Four':4, 'Five':5, 'Six':6, 'Seven':7, 'Eight':8, 'Nine':9, 'Ten':10, 'Jack':10,\n",
        "         'Queen':10, 'King':10, 'Ace':11} # Ace equals 11/1\n"
      ]
    },
    {
      "cell_type": "code",
      "source": [
        "class Card:\n",
        "\n",
        "  def __init__(self, suit, rank):\n",
        "    try:\n",
        "      rank,suit = rank.capitalize(),suit.capitalize()\n",
        "      self.suit = suit\n",
        "      self.rank = rank\n",
        "      self.value= values[rank] # value by key rank from values dic\n",
        "    except:\n",
        "      print(\"Card init failed wrong input\")\n",
        "\n",
        "  def __str__(self):\n",
        "      return self.rank + ' of ' + self.suit"
      ],
      "metadata": {
        "id": "A1D5y1y0Z70n"
      },
      "execution_count": 107,
      "outputs": []
    },
    {
      "cell_type": "code",
      "source": [
        "myCard = Card('hearts','two')"
      ],
      "metadata": {
        "id": "dTPrLkgQbH1Q"
      },
      "execution_count": 108,
      "outputs": []
    },
    {
      "cell_type": "code",
      "source": [
        "print(myCard)"
      ],
      "metadata": {
        "colab": {
          "base_uri": "https://localhost:8080/"
        },
        "id": "82b6jIbFbn1-",
        "outputId": "7928304a-0fe2-4e99-b434-70b903a735d4"
      },
      "execution_count": 109,
      "outputs": [
        {
          "output_type": "stream",
          "name": "stdout",
          "text": [
            "Two of Hearts\n"
          ]
        }
      ]
    },
    {
      "cell_type": "code",
      "source": [
        "class Deck:\n",
        "\n",
        "  def __init__(self):\n",
        "      self.all_cards=[]\n",
        "      for suit in suits:\n",
        "        for rank in ranks:\n",
        "          self.all_cards.append(Card(suit,rank))\n",
        "\n",
        "  def shuffle(self):\n",
        "    random.shuffle(self.all_cards)\n",
        "\n",
        "  def deal_one_card(self):\n",
        "    if (len(self.all_cards)<=0):\n",
        "      print(\"**No more cards to deal\\nDeck is Empty\")\n",
        "      return 0\n",
        "    else:\n",
        "      return self.all_cards.pop(0) #deal top deck card\n",
        "\n",
        "  def __str__(self):\n",
        "        if (len(self.all_cards)<=0):\n",
        "          return f'Deck is Empty'\n",
        "        else:\n",
        "          for i,card in enumerate(self.all_cards,1):\n",
        "            print(f\"#{i} {card}\")\n",
        "          return f'Deck has {len(self.all_cards)} cards'"
      ],
      "metadata": {
        "id": "NNx7GWOzbqbW"
      },
      "execution_count": 110,
      "outputs": []
    },
    {
      "cell_type": "code",
      "source": [
        "class Player:\n",
        "\n",
        "  def __init__(self, name:str='', balance:int=0):\n",
        "    self.hand = []\n",
        "    self.name = name\n",
        "    self.balance = balance\n",
        "\n",
        "  def add_card(self, new_card : Card): #HIT\n",
        "    self.hand.append(new_card)\n",
        "\n",
        "  def hand_value(self)-> int:\n",
        "    value = sum(card.value for card in self.hand)\n",
        "    aces = sum(1 for card in self.hand if card.rank == 'Ace') #counting Aces\n",
        "    while value > 21 and aces: #setting Aces as 1 or 11\n",
        "        value -= 10\n",
        "        aces -= 1\n",
        "    return value\n",
        "\n",
        "  def add_bet(self)->int:\n",
        "    try:\n",
        "      bet = int(input(f'{self.name} please enter your bet: '))\n",
        "      if (bet > self.balance):\n",
        "        print(f\"Not enough money to bet, Your current balance is {self.balance}$.\")\n",
        "        return 0\n",
        "      self.balance -= bet\n",
        "      return bet\n",
        "    except ValueError:\n",
        "      print(\"wrong input try again\")\n",
        "      return self.add_bet()\n",
        "\n",
        "  def __str__(self)->str:\n",
        "        if (len(self.hand)<=0):\n",
        "          return f'{self.name} does not have any cards'\n",
        "        else:\n",
        "          print(f'{self.name}\\'s hand:')\n",
        "          for i,card in enumerate(self.hand,1):\n",
        "            print(f\"#{i} {card}\")\n",
        "          return f'Has {self.balance}$'"
      ],
      "metadata": {
        "id": "_eDitBHDpJG0"
      },
      "execution_count": 111,
      "outputs": []
    },
    {
      "cell_type": "code",
      "source": [
        "class Dealer(Player):\n",
        "    def __init__(self):\n",
        "        super().__init__(name='Dealer')\n",
        "\n",
        "    def play_turn(self, deck):\n",
        "        print(f\"{self.name} starts with: {self.hand_value()}\")\n",
        "        while self.hand_value() < 17:\n",
        "            self.add_card(deck.deal_one_card())\n",
        "            print(f\"{self.name} hits: {self.hand[-1]}\")\n",
        "        print(f\"{self.name} stays at: {self.hand_value()}\")"
      ],
      "metadata": {
        "id": "nJ9u3NHvBK2g"
      },
      "execution_count": 112,
      "outputs": []
    },
    {
      "cell_type": "code",
      "source": [
        "def hit_or_stand(deck : Deck, player : Player):\n",
        "  try:\n",
        "    choice = input(\"Would you like to Hit or Stand? Enter 'h' or 's': \").strip().lower()\n",
        "    if choice == 'h':\n",
        "        new_card = deck.deal_one_card()\n",
        "        player.add_card(new_card)\n",
        "        print(f\"You drew: {new_card}\")\n",
        "        print(f\"Your current hand value: {player.hand_value()}\")\n",
        "    elif choice == 's':\n",
        "        print(\"You chose to stand.\")\n",
        "        return choice\n",
        "    else:\n",
        "      print(\"Invalid input. Please enter 'h' to hit or 's' to stand.\")\n",
        "      return hit_or_stand(deck, player)  # Retry for invalid input\n",
        "  except Exception as e:\n",
        "      print(f\"An error occurred: {e}. Please try again.\")\n",
        "      return hit_or_stand(deck, player)  # Retry on error"
      ],
      "metadata": {
        "id": "dV_CMMIcHrQr"
      },
      "execution_count": 113,
      "outputs": []
    },
    {
      "cell_type": "code",
      "source": [
        "def handle_player_turn(player: Player, deck: Deck)->bool:\n",
        "    \"\"\"\n",
        "    Handles the player's turn (hit or stand).\n",
        "    Returns True if the player busts, otherwise False.\n",
        "    \"\"\"\n",
        "    while True:\n",
        "        choice=hit_or_stand(deck, player)\n",
        "        if player.hand_value() > 21:  # Player busts\n",
        "            print(\"You bust! Dealer wins.\")\n",
        "            return True\n",
        "        elif choice=='s' and player.hand_value() <= 21:\n",
        "            print(f\"Player stands at {player.hand_value()}\")\n",
        "            break\n",
        "    return False"
      ],
      "metadata": {
        "id": "F8mODu2_zFkx"
      },
      "execution_count": 114,
      "outputs": []
    },
    {
      "cell_type": "code",
      "source": [
        "def deal_initial_cards(player: Player, dealer: Dealer, deck: Deck):\n",
        "    \"\"\"\n",
        "    Deals two cards each to the player and the dealer.\n",
        "    \"\"\"\n",
        "    for _ in range(2):\n",
        "        player.add_card(deck.deal_one_card())\n",
        "        dealer.add_card(deck.deal_one_card())\n"
      ],
      "metadata": {
        "id": "KEItaUOCzFIF"
      },
      "execution_count": 115,
      "outputs": []
    },
    {
      "cell_type": "code",
      "source": [
        "def display_initial_hands(player: Player,  dealer: Dealer):\n",
        "    \"\"\"\n",
        "    Displays the player's hand and the dealer's first card.\n",
        "    \"\"\"\n",
        "    print(\"\\nYour hand:\")\n",
        "    print(player)\n",
        "    print(f\"Dealer shows: {dealer.hand[0]}\")"
      ],
      "metadata": {
        "id": "84u20q6FzFdR"
      },
      "execution_count": 116,
      "outputs": []
    },
    {
      "cell_type": "code",
      "source": [
        "def check_blackjack(player: Player, bet: int)->bool:\n",
        "    \"\"\"\n",
        "    Checks if the player has a Blackjack.\n",
        "    Returns True if Blackjack, otherwise False.\n",
        "    \"\"\"\n",
        "    if player.hand_value() == 21:\n",
        "        print(\"Blackjack! You win!\")\n",
        "        player.balance += int(bet * 2.5)  # Blackjack pays 3:2\n",
        "        return True\n",
        "    return False"
      ],
      "metadata": {
        "id": "U_QTCzUszFhh"
      },
      "execution_count": 117,
      "outputs": []
    },
    {
      "cell_type": "code",
      "source": [
        "\n",
        "def handle_dealer_turn(dealer: Dealer, deck: Deck):\n",
        "    \"\"\"\n",
        "    Handles the dealer's turn (auto-play until 17 or bust).\n",
        "    \"\"\"\n",
        "    print(\"\\nDealer's turn:\")\n",
        "    print(f\"Dealer's second card is: {dealer.hand[1]}\")\n",
        "    dealer.play_turn(deck)\n"
      ],
      "metadata": {
        "id": "ARrYOEzzzFn1"
      },
      "execution_count": 118,
      "outputs": []
    },
    {
      "cell_type": "code",
      "source": [
        "def determine_winner(player: Player, dealer: Dealer, bet: int):\n",
        "    \"\"\"\n",
        "    Determines the winner of the round and updates the player's balance.\n",
        "    \"\"\"\n",
        "    if dealer.hand_value() > 21 or player.hand_value() > dealer.hand_value():\n",
        "        print(\"You win!\")\n",
        "        player.balance += bet * 2\n",
        "    elif player.hand_value() == dealer.hand_value():\n",
        "        print(\"It's a tie! Bet returned.\")\n",
        "        player.balance += bet\n",
        "    else:\n",
        "        print(\"Dealer wins!\")"
      ],
      "metadata": {
        "id": "bSmJfev-zFqZ"
      },
      "execution_count": 119,
      "outputs": []
    },
    {
      "cell_type": "code",
      "source": [
        "def ask_play()-> bool:\n",
        "    \"\"\"\n",
        "    Asks the player if they want to play another round.\n",
        "    Returns True to play again, False to quit.\n",
        "    \"\"\"\n",
        "    try:\n",
        "      play_again = input(\"\\nWould you like to play? (y/n): \").strip().lower()\n",
        "    except TypeError:\n",
        "      print(\"wrong input try again\")\n",
        "      return ask_play()\n",
        "    if play_again not in ['y', 'n']:\n",
        "        print(\"Invalid input. Please enter 'y' to play again or 'n' to quit.\")\n",
        "        return ask_play()\n",
        "    return play_again == 'y'"
      ],
      "metadata": {
        "id": "4JVOpPRfzFtC"
      },
      "execution_count": 120,
      "outputs": []
    },
    {
      "cell_type": "code",
      "source": [
        "def main():\n",
        "    # Initialize game components\n",
        "    print(\"Welcome to Blackjack!\")\n",
        "    player = Player(name='Player1', balance=100)\n",
        "    dealer = Dealer()\n",
        "    deck = Deck()\n",
        "    deck.shuffle()\n",
        "    while True:  # Game loop for multiple rounds\n",
        "        # Reset hands for a new round.\n",
        "        time.sleep(5)\n",
        "        clear_output()\n",
        "        player.hand = []\n",
        "        dealer.hand = []\n",
        "\n",
        "        # Show player's balance and ask to play\n",
        "        print(f\"\\nYour balance: {player.balance}$\")\n",
        "        if player.balance <= 0:\n",
        "          print(\"You're out of money! Game over.\")\n",
        "          break\n",
        "\n",
        "        elif not ask_play():\n",
        "          break\n",
        "\n",
        "        elif len(deck.all_cards) < 10:\n",
        "          print(\"Deck is low in cards, shuffling...\")\n",
        "          deck = Deck()\n",
        "          deck.shuffle()\n",
        "\n",
        "        # Place a bet\n",
        "        bet = player.add_bet()\n",
        "        print(f\"Bet placed: {bet}$\")\n",
        "\n",
        "        if not bet:\n",
        "            continue\n",
        "\n",
        "        # Deal initial cards and display hands\n",
        "        deal_initial_cards(player, dealer, deck)\n",
        "        display_initial_hands(player, dealer)\n",
        "\n",
        "        # Check for Blackjack\n",
        "        if check_blackjack(player, bet): continue\n",
        "\n",
        "        # Player's turn\n",
        "        elif handle_player_turn(player, deck): continue\n",
        "\n",
        "        # Dealer's turn and determine winner\n",
        "        handle_dealer_turn(dealer, deck)\n",
        "        determine_winner(player, dealer, bet)\n",
        "\n",
        "    print(\"Thank you for playing Blackjack!\")\n"
      ],
      "metadata": {
        "id": "8XsPtEF0phf2"
      },
      "execution_count": 121,
      "outputs": []
    },
    {
      "cell_type": "code",
      "source": [
        "if __name__ == \"__main__\":\n",
        "    main()"
      ],
      "metadata": {
        "id": "8Pt6Dj15ugwR"
      },
      "execution_count": 123,
      "outputs": []
    }
  ]
}