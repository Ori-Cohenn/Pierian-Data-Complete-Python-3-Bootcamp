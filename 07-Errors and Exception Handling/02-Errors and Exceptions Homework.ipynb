{
  "cells": [
    {
      "cell_type": "markdown",
      "metadata": {
        "id": "view-in-github",
        "colab_type": "text"
      },
      "source": [
        "<a href=\"https://colab.research.google.com/github/Ori-Cohenn/Pierian-Data-Complete-Python-3-Bootcamp/blob/master/07-Errors%20and%20Exception%20Handling/02-Errors%20and%20Exceptions%20Homework.ipynb\" target=\"_parent\"><img src=\"https://colab.research.google.com/assets/colab-badge.svg\" alt=\"Open In Colab\"/></a>"
      ]
    },
    {
      "cell_type": "markdown",
      "metadata": {
        "id": "2Lp-8mDXFW1Q"
      },
      "source": [
        "# Errors and Exceptions Homework"
      ]
    },
    {
      "cell_type": "markdown",
      "metadata": {
        "id": "WuogGo-7FW1S"
      },
      "source": [
        "### Problem 1\n",
        "Handle the exception thrown by the code below by using <code>try</code> and <code>except</code> blocks."
      ]
    },
    {
      "cell_type": "code",
      "execution_count": 1,
      "metadata": {
        "id": "aCAZTtXYFW1S",
        "outputId": "bc42fe30-4cd1-4f4d-f188-f79ee0d7945e",
        "colab": {
          "base_uri": "https://localhost:8080/"
        }
      },
      "outputs": [
        {
          "output_type": "stream",
          "name": "stdout",
          "text": [
            "Can't use operands on strings\n"
          ]
        }
      ],
      "source": [
        "try:\n",
        "  for i in ['a','b','c']:\n",
        "      print(i**2)\n",
        "except:\n",
        "  print(\"An error occurred!\")"
      ]
    },
    {
      "cell_type": "markdown",
      "metadata": {
        "id": "t8_vA8SmFW1T"
      },
      "source": [
        "### Problem 2\n",
        "Handle the exception thrown by the code below by using <code>try</code> and <code>except</code> blocks. Then use a <code>finally</code> block to print 'All Done.'"
      ]
    },
    {
      "cell_type": "code",
      "execution_count": 2,
      "metadata": {
        "id": "Ayyxi1TQFW1T",
        "outputId": "babfea12-2b65-427d-df51-619e190083a1",
        "colab": {
          "base_uri": "https://localhost:8080/"
        }
      },
      "outputs": [
        {
          "output_type": "stream",
          "name": "stdout",
          "text": [
            "Division by zero is not allowed in Python\n",
            "All Done\n"
          ]
        }
      ],
      "source": [
        "x = 5\n",
        "y = 0\n",
        "try:\n",
        "  z = x/y\n",
        "except:\n",
        "  print(\"Division by zero is not allowed in Python\")\n",
        "finally:\n",
        "  print(\"All Done\")"
      ]
    },
    {
      "cell_type": "markdown",
      "metadata": {
        "id": "pj3jAstGFW1U"
      },
      "source": [
        "### Problem 3\n",
        "Write a function that asks for an integer and prints the square of it. Use a <code>while</code> loop with a <code>try</code>, <code>except</code>, <code>else</code> block to account for incorrect inputs."
      ]
    },
    {
      "cell_type": "code",
      "execution_count": 3,
      "metadata": {
        "id": "qrV96vvfFW1U"
      },
      "outputs": [],
      "source": [
        "def ask():\n",
        "  while True:\n",
        "    try:\n",
        "      n=int(input(\"Input an integer: \"))\n",
        "      n=n**2\n",
        "    except:\n",
        "      print(\"An error occurred! Please try again!\")\n",
        "    else:\n",
        "      print(f\"Thank you, your number squared is:  {n}\")\n",
        "      break"
      ]
    },
    {
      "cell_type": "code",
      "execution_count": 4,
      "metadata": {
        "id": "MTWqGv4IFW1U",
        "outputId": "221eb03f-feb0-4b70-8cd3-13732bc0b9aa",
        "colab": {
          "base_uri": "https://localhost:8080/"
        }
      },
      "outputs": [
        {
          "output_type": "stream",
          "name": "stdout",
          "text": [
            "Input an integer: s\n",
            "An error occurred! Please try again!\n",
            "Input an integer: r\n",
            "An error occurred! Please try again!\n",
            "Input an integer: q\n",
            "An error occurred! Please try again!\n",
            "Input an integer: asd\n",
            "An error occurred! Please try again!\n",
            "Input an integer: 25\n",
            "Thank you, your number squared is:  625\n"
          ]
        }
      ],
      "source": [
        "ask()"
      ]
    },
    {
      "cell_type": "markdown",
      "metadata": {
        "id": "Xnu4OzUaFW1U"
      },
      "source": [
        "# Great Job!"
      ]
    }
  ],
  "metadata": {
    "kernelspec": {
      "display_name": "Python 3",
      "language": "python",
      "name": "python3"
    },
    "language_info": {
      "codemirror_mode": {
        "name": "ipython",
        "version": 3
      },
      "file_extension": ".py",
      "mimetype": "text/x-python",
      "name": "python",
      "nbconvert_exporter": "python",
      "pygments_lexer": "ipython3",
      "version": "3.6.2"
    },
    "colab": {
      "provenance": [],
      "include_colab_link": true
    }
  },
  "nbformat": 4,
  "nbformat_minor": 0
}