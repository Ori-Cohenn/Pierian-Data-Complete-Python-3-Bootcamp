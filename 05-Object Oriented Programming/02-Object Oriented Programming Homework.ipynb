{
  "cells": [
    {
      "cell_type": "markdown",
      "metadata": {
        "id": "view-in-github",
        "colab_type": "text"
      },
      "source": [
        "<a href=\"https://colab.research.google.com/github/Ori-Cohenn/Pierian-Data-Complete-Python-3-Bootcamp/blob/master/05-Object%20Oriented%20Programming/02-Object%20Oriented%20Programming%20Homework.ipynb\" target=\"_parent\"><img src=\"https://colab.research.google.com/assets/colab-badge.svg\" alt=\"Open In Colab\"/></a>"
      ]
    },
    {
      "cell_type": "markdown",
      "metadata": {
        "id": "t6IZpYeQaXIs"
      },
      "source": [
        "# Object Oriented Programming\n",
        "## Homework Assignment\n",
        "\n",
        "#### Problem 1\n",
        "Fill in the Line class methods to accept coordinates as a pair of tuples and return the slope and distance of the line."
      ]
    },
    {
      "cell_type": "code",
      "execution_count": 16,
      "metadata": {
        "id": "opB2OzhFaXIv"
      },
      "outputs": [],
      "source": [
        "class Line: #**0.5\n",
        "\n",
        "    def __init__(self,coor1,coor2):\n",
        "        self.coor1=coor1\n",
        "        self.coor2=coor2\n",
        "\n",
        "    def distance(self):\n",
        "        return ((self.coor1[0]-self.coor2[0])**2+(self.coor1[1]-self.coor2[1])**2)**0.5\n",
        "\n",
        "    def slope(self):\n",
        "        return ((self.coor1[1]-self.coor2[1])/(self.coor1[0]-self.coor2[0]))"
      ]
    },
    {
      "cell_type": "code",
      "execution_count": 17,
      "metadata": {
        "id": "FDrZdR-VaXIx"
      },
      "outputs": [],
      "source": [
        "# EXAMPLE OUTPUT\n",
        "\n",
        "coordinate1 = (3,2)\n",
        "coordinate2 = (8,10)\n",
        "\n",
        "li = Line(coordinate1,coordinate2)"
      ]
    },
    {
      "cell_type": "code",
      "execution_count": 18,
      "metadata": {
        "colab": {
          "base_uri": "https://localhost:8080/"
        },
        "id": "WUP7o87QaXIx",
        "outputId": "fdde86a1-a8c7-49d2-d7fc-0cfec03a710a"
      },
      "outputs": [
        {
          "output_type": "execute_result",
          "data": {
            "text/plain": [
              "9.433981132056603"
            ]
          },
          "metadata": {},
          "execution_count": 18
        }
      ],
      "source": [
        "li.distance()"
      ]
    },
    {
      "cell_type": "code",
      "execution_count": 19,
      "metadata": {
        "colab": {
          "base_uri": "https://localhost:8080/"
        },
        "id": "E70ZN1ZvaXIy",
        "outputId": "34068304-b3e1-408e-c770-18af41a2afd6"
      },
      "outputs": [
        {
          "output_type": "execute_result",
          "data": {
            "text/plain": [
              "1.6"
            ]
          },
          "metadata": {},
          "execution_count": 19
        }
      ],
      "source": [
        "li.slope()"
      ]
    },
    {
      "cell_type": "markdown",
      "metadata": {
        "id": "gX8yA_EMaXIy"
      },
      "source": [
        "________\n",
        "#### Problem 2"
      ]
    },
    {
      "cell_type": "markdown",
      "metadata": {
        "id": "moXWzc5QaXIy"
      },
      "source": [
        "Fill in the class"
      ]
    },
    {
      "cell_type": "code",
      "execution_count": 20,
      "metadata": {
        "id": "7b3Ebz9NaXIy"
      },
      "outputs": [],
      "source": [
        "class Cylinder:\n",
        "    pi=3.14\n",
        "    def __init__(self,height=1,radius=1):\n",
        "        self.height=height\n",
        "        self.radius=radius\n",
        "\n",
        "    def volume(self):\n",
        "        return self.pi*self.radius**2*self.height\n",
        "\n",
        "    def surface_area(self):\n",
        "        return 2*self.pi*self.radius*(self.height+self.radius)"
      ]
    },
    {
      "cell_type": "code",
      "execution_count": 21,
      "metadata": {
        "id": "CQLK7V3uaXIz"
      },
      "outputs": [],
      "source": [
        "# EXAMPLE OUTPUT\n",
        "c = Cylinder(2,3)"
      ]
    },
    {
      "cell_type": "code",
      "execution_count": 22,
      "metadata": {
        "colab": {
          "base_uri": "https://localhost:8080/"
        },
        "id": "DVqJLa8_aXIz",
        "outputId": "721e4447-4c09-4703-feca-a442674b008f"
      },
      "outputs": [
        {
          "output_type": "execute_result",
          "data": {
            "text/plain": [
              "56.52"
            ]
          },
          "metadata": {},
          "execution_count": 22
        }
      ],
      "source": [
        "c.volume()"
      ]
    },
    {
      "cell_type": "code",
      "execution_count": 23,
      "metadata": {
        "colab": {
          "base_uri": "https://localhost:8080/"
        },
        "id": "cvAaR1G-aXIz",
        "outputId": "18e91865-6843-41b8-bbb6-7b8fd1dc2898"
      },
      "outputs": [
        {
          "output_type": "execute_result",
          "data": {
            "text/plain": [
              "94.2"
            ]
          },
          "metadata": {},
          "execution_count": 23
        }
      ],
      "source": [
        "c.surface_area()"
      ]
    },
    {
      "cell_type": "code",
      "source": [],
      "metadata": {
        "id": "chOhIC6dgcp1"
      },
      "execution_count": null,
      "outputs": []
    }
  ],
  "metadata": {
    "kernelspec": {
      "display_name": "Python 3",
      "language": "python",
      "name": "python3"
    },
    "language_info": {
      "codemirror_mode": {
        "name": "ipython",
        "version": 3
      },
      "file_extension": ".py",
      "mimetype": "text/x-python",
      "name": "python",
      "nbconvert_exporter": "python",
      "pygments_lexer": "ipython3",
      "version": "3.6.2"
    },
    "colab": {
      "provenance": [],
      "include_colab_link": true
    }
  },
  "nbformat": 4,
  "nbformat_minor": 0
}